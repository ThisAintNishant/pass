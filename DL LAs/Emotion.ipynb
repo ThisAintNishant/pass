{
 "cells": [
  {
   "cell_type": "code",
   "execution_count": 2,
   "metadata": {
    "id": "76v0GIA_CajP"
   },
   "outputs": [],
   "source": [
    "\n",
    "import numpy as np\n",
    "import pandas as pd\n",
    "import tensorflow as tf\n",
    "from tensorflow.keras.preprocessing.text import Tokenizer\n",
    "from tensorflow.keras.preprocessing.sequence import pad_sequences\n",
    "from tensorflow.keras.models import Sequential\n",
    "from tensorflow.keras.layers import Embedding, Dense, Flatten, Dropout, LSTM\n",
    "from sklearn.model_selection import train_test_split\n",
    "from sklearn.metrics import accuracy_score, classification_report"
   ]
  },
  {
   "cell_type": "code",
   "execution_count": 3,
   "metadata": {
    "colab": {
     "base_uri": "https://localhost:8080/",
     "height": 423
    },
    "id": "zg9MHJNUD84a",
    "outputId": "08ec29af-2991-462a-8274-8db3a1234652"
   },
   "outputs": [
    {
     "data": {
      "text/html": [
       "<div>\n",
       "<style scoped>\n",
       "    .dataframe tbody tr th:only-of-type {\n",
       "        vertical-align: middle;\n",
       "    }\n",
       "\n",
       "    .dataframe tbody tr th {\n",
       "        vertical-align: top;\n",
       "    }\n",
       "\n",
       "    .dataframe thead th {\n",
       "        text-align: right;\n",
       "    }\n",
       "</style>\n",
       "<table border=\"1\" class=\"dataframe\">\n",
       "  <thead>\n",
       "    <tr style=\"text-align: right;\">\n",
       "      <th></th>\n",
       "      <th>review</th>\n",
       "      <th>sentiment</th>\n",
       "    </tr>\n",
       "  </thead>\n",
       "  <tbody>\n",
       "    <tr>\n",
       "      <th>0</th>\n",
       "      <td>One of the other reviewers has mentioned that ...</td>\n",
       "      <td>positive</td>\n",
       "    </tr>\n",
       "    <tr>\n",
       "      <th>1</th>\n",
       "      <td>A wonderful little production. &lt;br /&gt;&lt;br /&gt;The...</td>\n",
       "      <td>positive</td>\n",
       "    </tr>\n",
       "    <tr>\n",
       "      <th>2</th>\n",
       "      <td>I thought this was a wonderful way to spend ti...</td>\n",
       "      <td>positive</td>\n",
       "    </tr>\n",
       "    <tr>\n",
       "      <th>3</th>\n",
       "      <td>Basically there's a family where a little boy ...</td>\n",
       "      <td>negative</td>\n",
       "    </tr>\n",
       "    <tr>\n",
       "      <th>4</th>\n",
       "      <td>Petter Mattei's \"Love in the Time of Money\" is...</td>\n",
       "      <td>positive</td>\n",
       "    </tr>\n",
       "    <tr>\n",
       "      <th>...</th>\n",
       "      <td>...</td>\n",
       "      <td>...</td>\n",
       "    </tr>\n",
       "    <tr>\n",
       "      <th>49995</th>\n",
       "      <td>I thought this movie did a down right good job...</td>\n",
       "      <td>positive</td>\n",
       "    </tr>\n",
       "    <tr>\n",
       "      <th>49996</th>\n",
       "      <td>Bad plot, bad dialogue, bad acting, idiotic di...</td>\n",
       "      <td>negative</td>\n",
       "    </tr>\n",
       "    <tr>\n",
       "      <th>49997</th>\n",
       "      <td>I am a Catholic taught in parochial elementary...</td>\n",
       "      <td>negative</td>\n",
       "    </tr>\n",
       "    <tr>\n",
       "      <th>49998</th>\n",
       "      <td>I'm going to have to disagree with the previou...</td>\n",
       "      <td>negative</td>\n",
       "    </tr>\n",
       "    <tr>\n",
       "      <th>49999</th>\n",
       "      <td>No one expects the Star Trek movies to be high...</td>\n",
       "      <td>negative</td>\n",
       "    </tr>\n",
       "  </tbody>\n",
       "</table>\n",
       "<p>50000 rows × 2 columns</p>\n",
       "</div>"
      ],
      "text/plain": [
       "                                                  review sentiment\n",
       "0      One of the other reviewers has mentioned that ...  positive\n",
       "1      A wonderful little production. <br /><br />The...  positive\n",
       "2      I thought this was a wonderful way to spend ti...  positive\n",
       "3      Basically there's a family where a little boy ...  negative\n",
       "4      Petter Mattei's \"Love in the Time of Money\" is...  positive\n",
       "...                                                  ...       ...\n",
       "49995  I thought this movie did a down right good job...  positive\n",
       "49996  Bad plot, bad dialogue, bad acting, idiotic di...  negative\n",
       "49997  I am a Catholic taught in parochial elementary...  negative\n",
       "49998  I'm going to have to disagree with the previou...  negative\n",
       "49999  No one expects the Star Trek movies to be high...  negative\n",
       "\n",
       "[50000 rows x 2 columns]"
      ]
     },
     "execution_count": 3,
     "metadata": {},
     "output_type": "execute_result"
    }
   ],
   "source": [
    "df = pd.read_csv(r\"C:\\Users\\gayat\\Downloads\\imdb\\IMDB Dataset.csv\")\n",
    "df"
   ]
  },
  {
   "cell_type": "code",
   "execution_count": 4,
   "metadata": {
    "colab": {
     "base_uri": "https://localhost:8080/",
     "height": 146
    },
    "id": "ueyNFL-CEDY4",
    "outputId": "74916417-b652-4c4a-defe-52c084842729"
   },
   "outputs": [
    {
     "data": {
      "text/plain": [
       "review       0\n",
       "sentiment    0\n",
       "dtype: int64"
      ]
     },
     "execution_count": 4,
     "metadata": {},
     "output_type": "execute_result"
    }
   ],
   "source": [
    "df.isnull().sum()"
   ]
  },
  {
   "cell_type": "code",
   "execution_count": 5,
   "metadata": {
    "colab": {
     "base_uri": "https://localhost:8080/",
     "height": 423
    },
    "id": "3ijZLsjOEJMf",
    "outputId": "79d019c6-d6c7-4c20-8048-5bf4c94b1c91"
   },
   "outputs": [
    {
     "data": {
      "text/html": [
       "<div>\n",
       "<style scoped>\n",
       "    .dataframe tbody tr th:only-of-type {\n",
       "        vertical-align: middle;\n",
       "    }\n",
       "\n",
       "    .dataframe tbody tr th {\n",
       "        vertical-align: top;\n",
       "    }\n",
       "\n",
       "    .dataframe thead th {\n",
       "        text-align: right;\n",
       "    }\n",
       "</style>\n",
       "<table border=\"1\" class=\"dataframe\">\n",
       "  <thead>\n",
       "    <tr style=\"text-align: right;\">\n",
       "      <th></th>\n",
       "      <th>review</th>\n",
       "      <th>sentiment</th>\n",
       "    </tr>\n",
       "  </thead>\n",
       "  <tbody>\n",
       "    <tr>\n",
       "      <th>0</th>\n",
       "      <td>One of the other reviewers has mentioned that ...</td>\n",
       "      <td>1</td>\n",
       "    </tr>\n",
       "    <tr>\n",
       "      <th>1</th>\n",
       "      <td>A wonderful little production. &lt;br /&gt;&lt;br /&gt;The...</td>\n",
       "      <td>1</td>\n",
       "    </tr>\n",
       "    <tr>\n",
       "      <th>2</th>\n",
       "      <td>I thought this was a wonderful way to spend ti...</td>\n",
       "      <td>1</td>\n",
       "    </tr>\n",
       "    <tr>\n",
       "      <th>3</th>\n",
       "      <td>Basically there's a family where a little boy ...</td>\n",
       "      <td>0</td>\n",
       "    </tr>\n",
       "    <tr>\n",
       "      <th>4</th>\n",
       "      <td>Petter Mattei's \"Love in the Time of Money\" is...</td>\n",
       "      <td>1</td>\n",
       "    </tr>\n",
       "    <tr>\n",
       "      <th>...</th>\n",
       "      <td>...</td>\n",
       "      <td>...</td>\n",
       "    </tr>\n",
       "    <tr>\n",
       "      <th>49995</th>\n",
       "      <td>I thought this movie did a down right good job...</td>\n",
       "      <td>1</td>\n",
       "    </tr>\n",
       "    <tr>\n",
       "      <th>49996</th>\n",
       "      <td>Bad plot, bad dialogue, bad acting, idiotic di...</td>\n",
       "      <td>0</td>\n",
       "    </tr>\n",
       "    <tr>\n",
       "      <th>49997</th>\n",
       "      <td>I am a Catholic taught in parochial elementary...</td>\n",
       "      <td>0</td>\n",
       "    </tr>\n",
       "    <tr>\n",
       "      <th>49998</th>\n",
       "      <td>I'm going to have to disagree with the previou...</td>\n",
       "      <td>0</td>\n",
       "    </tr>\n",
       "    <tr>\n",
       "      <th>49999</th>\n",
       "      <td>No one expects the Star Trek movies to be high...</td>\n",
       "      <td>0</td>\n",
       "    </tr>\n",
       "  </tbody>\n",
       "</table>\n",
       "<p>50000 rows × 2 columns</p>\n",
       "</div>"
      ],
      "text/plain": [
       "                                                  review  sentiment\n",
       "0      One of the other reviewers has mentioned that ...          1\n",
       "1      A wonderful little production. <br /><br />The...          1\n",
       "2      I thought this was a wonderful way to spend ti...          1\n",
       "3      Basically there's a family where a little boy ...          0\n",
       "4      Petter Mattei's \"Love in the Time of Money\" is...          1\n",
       "...                                                  ...        ...\n",
       "49995  I thought this movie did a down right good job...          1\n",
       "49996  Bad plot, bad dialogue, bad acting, idiotic di...          0\n",
       "49997  I am a Catholic taught in parochial elementary...          0\n",
       "49998  I'm going to have to disagree with the previou...          0\n",
       "49999  No one expects the Star Trek movies to be high...          0\n",
       "\n",
       "[50000 rows x 2 columns]"
      ]
     },
     "execution_count": 5,
     "metadata": {},
     "output_type": "execute_result"
    }
   ],
   "source": [
    "# Label Encoding: Convert 'positive' to 1 and 'negative' to 0\n",
    "df['sentiment'] = df['sentiment'].map({'positive': 1, 'negative': 0})\n",
    "df"
   ]
  },
  {
   "cell_type": "code",
   "execution_count": 6,
   "metadata": {
    "id": "Z_y8J5OAEOPJ"
   },
   "outputs": [],
   "source": [
    "# Splitting data into training and testing sets\n",
    "X_train, X_test, y_train, y_test = train_test_split(df['review'], df['sentiment'], test_size=0.2, random_state=42)\n",
    "\n",
    "# Text Preprocessing: Tokenization & Padding\n",
    "vocab_size = 10000  # Number of unique words to keep\n",
    "max_length = 200  # Max review length\n",
    "oov_token = \"<OOV>\"  # Out of vocabulary token"
   ]
  },
  {
   "cell_type": "code",
   "execution_count": 7,
   "metadata": {
    "colab": {
     "background_save": true,
     "base_uri": "https://localhost:8080/"
    },
    "id": "RTyYxNaRESD7",
    "outputId": "beec4f02-c8a8-49dc-ca08-e6c7c1cf0fbe"
   },
   "outputs": [
    {
     "name": "stdout",
     "output_type": "stream",
     "text": [
      "Epoch 1/20\n"
     ]
    },
    {
     "name": "stderr",
     "output_type": "stream",
     "text": [
      "C:\\Users\\gayat\\AppData\\Local\\Programs\\Python\\Python310\\lib\\site-packages\\keras\\src\\layers\\core\\embedding.py:90: UserWarning: Argument `input_length` is deprecated. Just remove it.\n",
      "  warnings.warn(\n"
     ]
    },
    {
     "name": "stdout",
     "output_type": "stream",
     "text": [
      "\u001b[1m1250/1250\u001b[0m \u001b[32m━━━━━━━━━━━━━━━━━━━━\u001b[0m\u001b[37m\u001b[0m \u001b[1m106s\u001b[0m 83ms/step - accuracy: 0.5179 - loss: 0.6906 - val_accuracy: 0.4961 - val_loss: 0.6937\n",
      "Epoch 2/20\n",
      "\u001b[1m1250/1250\u001b[0m \u001b[32m━━━━━━━━━━━━━━━━━━━━\u001b[0m\u001b[37m\u001b[0m \u001b[1m105s\u001b[0m 84ms/step - accuracy: 0.5352 - loss: 0.6850 - val_accuracy: 0.7075 - val_loss: 0.6125\n",
      "Epoch 3/20\n",
      "\u001b[1m1250/1250\u001b[0m \u001b[32m━━━━━━━━━━━━━━━━━━━━\u001b[0m\u001b[37m\u001b[0m \u001b[1m105s\u001b[0m 84ms/step - accuracy: 0.5008 - loss: 0.7001 - val_accuracy: 0.4961 - val_loss: 0.6941\n",
      "Epoch 4/20\n",
      "\u001b[1m1250/1250\u001b[0m \u001b[32m━━━━━━━━━━━━━━━━━━━━\u001b[0m\u001b[37m\u001b[0m \u001b[1m115s\u001b[0m 92ms/step - accuracy: 0.5007 - loss: 0.6937 - val_accuracy: 0.4962 - val_loss: 0.6919\n",
      "Epoch 5/20\n",
      "\u001b[1m1250/1250\u001b[0m \u001b[32m━━━━━━━━━━━━━━━━━━━━\u001b[0m\u001b[37m\u001b[0m \u001b[1m118s\u001b[0m 94ms/step - accuracy: 0.5882 - loss: 0.6637 - val_accuracy: 0.6785 - val_loss: 0.6637\n",
      "Epoch 6/20\n",
      "\u001b[1m1250/1250\u001b[0m \u001b[32m━━━━━━━━━━━━━━━━━━━━\u001b[0m\u001b[37m\u001b[0m \u001b[1m103s\u001b[0m 82ms/step - accuracy: 0.7309 - loss: 0.5267 - val_accuracy: 0.8713 - val_loss: 0.3131\n",
      "Epoch 7/20\n",
      "\u001b[1m1250/1250\u001b[0m \u001b[32m━━━━━━━━━━━━━━━━━━━━\u001b[0m\u001b[37m\u001b[0m \u001b[1m119s\u001b[0m 95ms/step - accuracy: 0.9043 - loss: 0.2597 - val_accuracy: 0.8677 - val_loss: 0.3190\n",
      "Epoch 8/20\n",
      "\u001b[1m1250/1250\u001b[0m \u001b[32m━━━━━━━━━━━━━━━━━━━━\u001b[0m\u001b[37m\u001b[0m \u001b[1m113s\u001b[0m 90ms/step - accuracy: 0.9282 - loss: 0.1967 - val_accuracy: 0.8799 - val_loss: 0.3217\n",
      "Epoch 9/20\n",
      "\u001b[1m1250/1250\u001b[0m \u001b[32m━━━━━━━━━━━━━━━━━━━━\u001b[0m\u001b[37m\u001b[0m \u001b[1m110s\u001b[0m 88ms/step - accuracy: 0.9490 - loss: 0.1481 - val_accuracy: 0.8739 - val_loss: 0.3447\n",
      "Epoch 10/20\n",
      "\u001b[1m1250/1250\u001b[0m \u001b[32m━━━━━━━━━━━━━━━━━━━━\u001b[0m\u001b[37m\u001b[0m \u001b[1m106s\u001b[0m 85ms/step - accuracy: 0.9675 - loss: 0.1028 - val_accuracy: 0.8685 - val_loss: 0.3754\n",
      "Epoch 11/20\n",
      "\u001b[1m1250/1250\u001b[0m \u001b[32m━━━━━━━━━━━━━━━━━━━━\u001b[0m\u001b[37m\u001b[0m \u001b[1m102s\u001b[0m 81ms/step - accuracy: 0.9782 - loss: 0.0733 - val_accuracy: 0.8703 - val_loss: 0.4274\n",
      "Epoch 12/20\n",
      "\u001b[1m1250/1250\u001b[0m \u001b[32m━━━━━━━━━━━━━━━━━━━━\u001b[0m\u001b[37m\u001b[0m \u001b[1m100s\u001b[0m 80ms/step - accuracy: 0.9844 - loss: 0.0573 - val_accuracy: 0.8655 - val_loss: 0.4887\n",
      "Epoch 13/20\n",
      "\u001b[1m1250/1250\u001b[0m \u001b[32m━━━━━━━━━━━━━━━━━━━━\u001b[0m\u001b[37m\u001b[0m \u001b[1m101s\u001b[0m 81ms/step - accuracy: 0.9881 - loss: 0.0490 - val_accuracy: 0.8647 - val_loss: 0.4752\n",
      "Epoch 14/20\n",
      "\u001b[1m1250/1250\u001b[0m \u001b[32m━━━━━━━━━━━━━━━━━━━━\u001b[0m\u001b[37m\u001b[0m \u001b[1m104s\u001b[0m 83ms/step - accuracy: 0.9904 - loss: 0.0413 - val_accuracy: 0.8617 - val_loss: 0.4878\n",
      "Epoch 15/20\n",
      "\u001b[1m1250/1250\u001b[0m \u001b[32m━━━━━━━━━━━━━━━━━━━━\u001b[0m\u001b[37m\u001b[0m \u001b[1m101s\u001b[0m 81ms/step - accuracy: 0.9927 - loss: 0.0338 - val_accuracy: 0.8629 - val_loss: 0.5374\n",
      "Epoch 16/20\n",
      "\u001b[1m1250/1250\u001b[0m \u001b[32m━━━━━━━━━━━━━━━━━━━━\u001b[0m\u001b[37m\u001b[0m \u001b[1m102s\u001b[0m 81ms/step - accuracy: 0.9941 - loss: 0.0288 - val_accuracy: 0.8625 - val_loss: 0.5356\n",
      "Epoch 17/20\n",
      "\u001b[1m1250/1250\u001b[0m \u001b[32m━━━━━━━━━━━━━━━━━━━━\u001b[0m\u001b[37m\u001b[0m \u001b[1m114s\u001b[0m 91ms/step - accuracy: 0.9944 - loss: 0.0261 - val_accuracy: 0.8617 - val_loss: 0.5341\n",
      "Epoch 18/20\n",
      "\u001b[1m1250/1250\u001b[0m \u001b[32m━━━━━━━━━━━━━━━━━━━━\u001b[0m\u001b[37m\u001b[0m \u001b[1m121s\u001b[0m 97ms/step - accuracy: 0.9961 - loss: 0.0197 - val_accuracy: 0.8622 - val_loss: 0.5726\n",
      "Epoch 19/20\n",
      "\u001b[1m1250/1250\u001b[0m \u001b[32m━━━━━━━━━━━━━━━━━━━━\u001b[0m\u001b[37m\u001b[0m \u001b[1m121s\u001b[0m 97ms/step - accuracy: 0.9960 - loss: 0.0199 - val_accuracy: 0.8632 - val_loss: 0.5173\n",
      "Epoch 20/20\n",
      "\u001b[1m1250/1250\u001b[0m \u001b[32m━━━━━━━━━━━━━━━━━━━━\u001b[0m\u001b[37m\u001b[0m \u001b[1m121s\u001b[0m 97ms/step - accuracy: 0.9968 - loss: 0.0159 - val_accuracy: 0.8594 - val_loss: 0.5816\n",
      "\u001b[1m313/313\u001b[0m \u001b[32m━━━━━━━━━━━━━━━━━━━━\u001b[0m\u001b[37m\u001b[0m \u001b[1m9s\u001b[0m 29ms/step\n"
     ]
    }
   ],
   "source": [
    "# Initialize Tokenizer\n",
    "tokenizer = Tokenizer(num_words=vocab_size, oov_token=oov_token)\n",
    "tokenizer.fit_on_texts(X_train)\n",
    "\n",
    "# Convert text to sequences\n",
    "X_train_seq = tokenizer.texts_to_sequences(X_train)\n",
    "X_test_seq = tokenizer.texts_to_sequences(X_test)\n",
    "\n",
    "# Pad sequences to ensure uniform input size\n",
    "X_train_pad = pad_sequences(X_train_seq, maxlen=max_length, padding='post', truncating='post')\n",
    "X_test_pad = pad_sequences(X_test_seq, maxlen=max_length, padding='post', truncating='post')\n",
    "\n",
    "# Build the Deep Neural Network Model\n",
    "model = Sequential([\n",
    "    Embedding(vocab_size, 128, input_length=max_length),  # Embedding layer\n",
    "    LSTM(64, return_sequences=True),  # LSTM layer for sequential data\n",
    "    LSTM(32),  # Another LSTM layer\n",
    "    Dropout(0.5),  # Dropout to prevent overfitting\n",
    "    Dense(32, activation='relu'),  # Dense hidden layer\n",
    "    Dense(1, activation='sigmoid')  # Output layer for binary classification\n",
    "])\n",
    "\n",
    "# Compile the Model\n",
    "model.compile(loss='binary_crossentropy', optimizer='adam', metrics=['accuracy'])\n",
    "\n",
    "# Train the Model\n",
    "history = model.fit(X_train_pad, y_train, epochs=20, batch_size=32, validation_data=(X_test_pad, y_test))\n",
    "\n",
    "# Evaluate the Model\n",
    "y_pred_prob = model.predict(X_test_pad)\n",
    "y_pred = (y_pred_prob > 0.5).astype(int)  # Convert probabilities to binary labels"
   ]
  },
  {
   "cell_type": "code",
   "execution_count": 8,
   "metadata": {
    "colab": {
     "base_uri": "https://localhost:8080/",
     "height": 211
    },
    "id": "FvBwZGO1EtX1",
    "outputId": "7beedab9-c58c-4b12-a969-e866c28a808e"
   },
   "outputs": [
    {
     "name": "stdout",
     "output_type": "stream",
     "text": [
      "Test Accuracy: 0.8594\n",
      "Classification Report:\n",
      "               precision    recall  f1-score   support\n",
      "\n",
      "           0       0.85      0.87      0.86      4961\n",
      "           1       0.87      0.85      0.86      5039\n",
      "\n",
      "    accuracy                           0.86     10000\n",
      "   macro avg       0.86      0.86      0.86     10000\n",
      "weighted avg       0.86      0.86      0.86     10000\n",
      "\n",
      "Number of Misclassified Samples: 1406\n",
      "\n",
      "Some Misclassified Reviews:\n",
      "\n",
      "Review: I really liked this Summerslam due to the look of the arena, the curtains and just the look overall was interesting to me for some reason. Anyways, this could have been one of the best Summerslam's ever if the WWF didn't have Lex Luger in the main event against Yokozuna, now for it's time it was ok to have a huge fat man vs a strong man but I'm glad times have changed. It was a terrible main event just like every match Luger is in is terrible. Other matches on the card were Razor Ramon vs Ted Dibiase, Steiner Brothers vs Heavenly Bodies, Shawn Michaels vs Curt Hening, this was the event where Shawn named his big monster of a body guard Diesel, IRS vs 1-2-3 Kid, Bret Hart first takes on Doink then takes on Jerry Lawler and stuff with the Harts and Lawler was always very interesting, then Ludvig Borga destroyed Marty Jannetty, Undertaker took on Giant Gonzalez in another terrible match, The Smoking Gunns and Tatanka took on Bam Bam Bigelow and the Headshrinkers, and Yokozuna defended the world title against Lex Luger this match was boring and it has a terrible ending. However it deserves 8/10\n",
      "True Sentiment: Positive\n",
      "Predicted Sentiment: Negative\n",
      "\n",
      "Review: The production quality, cast, premise, authentic New England (Waterbury, CT?) locale and lush John Williams score should have resulted in a 3-4 star collectors item. Unfortunately, all we got was a passable 2 star \"decent\" flick, mostly memorable for what it tried to do.........bring an art house style film mainstream. The small town locale and story of ordinary people is a genre to itself, and if well done, will satisfy most grownups. Jane Fonda was unable to hide her braininess enough to make her character believable. I wondered why she wasn't doing a post doctorate at Yale instead of working in a dead end factory job in Waterbury. Robert DiNiro's character was just a bit too contrived. An illiterate, nice guy loser who turns out to actually be, with a little help from Jane's character, a 1990 version of Henry Ford or Thomas Edison.<br /><br />This genre has been more successfully handled by \"Nobody's Fool\" in the mid 90s and this year's (2003) \"About Schmidt.\" I wish that the main stream studios would try more stuff for post adolescents and reserve a couple of screens at the multi cinema complexes for those efforts.<br /><br />I'll give it an \"A\" for effort.\n",
      "True Sentiment: Positive\n",
      "Predicted Sentiment: Negative\n",
      "\n",
      "Review: I'm writing this note as a chess player as well as as a movie viewer. I watched the 1997 Kasparov-Deep Blue games on the Internet. I know something about the issues that were raised. Other chess players will come along and want to know whether this movie is worth seeing/buying, and I'm talking largely to them. However, I'll try not to ignore those who aren't \"into chess\".<br /><br />This movie is about the 1997 match between Garry Kasparov and the custom-built computer \"Deep Blue\". However, the first image you see in the movie is not of Kasparov, or of the computer, but of \"THE TURK\". This is an \"automaton\" which was built in Europe at the turn of the 18th-19th century and played winning chess against all comers. I put the word \"automaton\" in quotes because it was, as everyone now knows, a fake. There was a man inside it.<br /><br />If you don't like seeing \"THE TURK\", then you won't be able to stand the movie, because \"THE TURK\" has as much screen time as Kasparov, maybe more, both in modern footage and in b/w footage from some old movie. The reappearance of \"THE TURK\" every few seconds underscores Kasparov's charge that \"Deep Blue\" had human assistance - that it was (to some degree) a fake computer, that IBM cheated, that there was \"a man inside it\" working behind the scenes to help it win. Not only does Kasparov believe this, but the filmmakers seem to believe it too. And so this is not really much of a movie about chess games or about programming chess computers. It is a propaganda piece about a big corporation supposedly misusing a helpless grandmaster. Really it is a lot like a \"negative campaign ad\", as it is chock full of ominous music and evocative camera work and spooky sound effects and innuendos (\"we never found out what was behind that locked door\") and the ever-present \"TURK\".<br /><br />Now, most people in the chess community are pretty much convinced that IBM did not cheat and that this was Garry's paranoia at work. To start with, in order for a human to help \"Deep Blue\" beat Kasparov, it would seem that you would need a human who was better than \"Deep Blue\" AND better than Kasparov. Since there was no such person, the whole idea is a bit suspect from the start. Furthermore, by the time this movie was made, there were computer programs that could run on your PC that could beat strong grandmasters. Today, much more than in 1997, we take it for granted that a computer can do things you might not expect. And we are less likely to take it as a monumental human tragedy that a computer beat a guy in chess. (And in fact, the bottom line is that Kasparov beat himself with two bad mistakes, including resigning game 2 in a drawn position.) <br /><br />As for the chess games, you actually see very little of them. There are a few comments from masters and commentators that tell briefly how they went, but really you don't get to see hardly any of the strategy or tactics at all. Naturally as a chess player I take this as a major shortcoming, but I think that non-players are being cheated too. Imagine a baseball movie, for example, where you don't hardly get to see any of the game - just a commentator telling you that \"in Game Four, the White Sox defeated the Astros with such and such a score.\" Nobody would make a movie like that. But here, for example, we are told that Kasparov made a bad blunder in the opening of the decisive game 6, but we aren't shown the position on the screen, or told why it was a blunder, or what he should have done instead, or anything. We just see a few seconds of Kasparov holding his head in his hands, and then more atmospheric sound effects and camera work.<br /><br />(Since I saw this on DVD, let me warn chess players about the DVD as well. The jacket promises you that the Extras include the games \"with analysis\". Is this grandmaster analysis, which people like us might find interesting? NO! It is the automated computer voice synthesizer analysis from some version of Chessmaster, that tells you when a piece is attacked and a pawn gets isolated and that you are in the \"Caro-Kann Defense, Main Line\". Blahhhh.) <br /><br />Someone might then come along and say, \"Well, clearly this movie is meant to dramatize the match for the non-player, and so it's unfair to be impatient with it.\" But actually it doesn't do a very good job of reaching out to the non-player either - it skates over some points that a true novice would really want to have explained. For example it says that Kasparov could have gotten \"perpetual check\" in the second game, but it doesn't explain what that is (or show what it would have looked like on the board, which would have been interesting). It flashes back to the Kasparov-Karpov matches but doesn't explain why there were two of them or who organized them etc. I didn't need this information myself, but I'm familiar with it. If you don't already have chess experience, there are places where you are going to be confused, and this is just a defect in the film.<br /><br />Ultimately I can't recommend the movie, which, like \"THE TURK\" itself, is not what it purports to be (a documentary) but more of a stage illusion.\n",
      "True Sentiment: Negative\n",
      "Predicted Sentiment: Positive\n",
      "\n",
      "Review: This film, won't win any awards for greatness. But if you have an hour and a half free and fancy a bit of light hearted entertainment then you could do much worse than watch this...<br /><br />The cast are mostly young and pretty, the script has some genuinely funny moments and the soundtrack is pretty cool too. Rupert Penry-Jones as Jake seems to have the most fun, while Laura Fraser as Justine is sweet, likable and funny.<br /><br />I rented it because I like the series 'Spooks' that RPJ is currently starring in. And here he's young and buff and the perfect eye candy for a girls night in.<br /><br />Get some wine and some ice cream and have a chuckle.\n",
      "True Sentiment: Positive\n",
      "Predicted Sentiment: Negative\n",
      "\n",
      "Review: Though I can't claim to be a comic book fanatic, I have read my share, so I guess I'm part of the audience of this film, and I wasn't disappointed. It does run out of steam near the end, it's almost overflowing with ideas, and it seems like Lena Olin, one of my favorite actresses, was left on the cutting room floor. Also, a little of Hank Azaria's Blue Raja can go a long way. Still, it's easy to forgive all of these faults when you have a film which is this much fun. All the actors seem to be having a blast with their roles, especially William H. Macy as the straight-arrow Shoveler, and Janeane Garofalo as The Bowler. And unlike some, I found the design of the city to make the joke even funnier. I also liked how disco was the music of choice of the bad guys; somehow, it seemed appropriate.\n",
      "True Sentiment: Positive\n",
      "Predicted Sentiment: Negative\n"
     ]
    }
   ],
   "source": [
    "accuracy = accuracy_score(y_test, y_pred)\n",
    "print(f\"Test Accuracy: {accuracy:.4f}\")\n",
    "print(\"Classification Report:\\n\", classification_report(y_test, y_pred))\n",
    "\n",
    "# Analyze Misclassifications\n",
    "misclassified_idx = np.where(y_pred.flatten() != y_test.values)[0]\n",
    "print(f\"Number of Misclassified Samples: {len(misclassified_idx)}\")\n",
    "print(\"\\nSome Misclassified Reviews:\")\n",
    "for i in misclassified_idx[:5]:  # Show 5 misclassified reviews\n",
    "    print(\"\\nReview:\", X_test.iloc[i])\n",
    "    print(\"True Sentiment:\", \"Positive\" if y_test.iloc[i] == 1 else \"Negative\")\n",
    "    print(\"Predicted Sentiment:\", \"Positive\" if y_pred[i] == 1 else \"Negative\")"
   ]
  },
  {
   "cell_type": "code",
   "execution_count": 12,
   "metadata": {
    "id": "E77yEO3lxfDb"
   },
   "outputs": [
    {
     "data": {
      "image/png": "[encoded data removed]",
      "text/plain": [
       "<Figure size 640x480 with 1 Axes>"
      ]
     },
     "metadata": {},
     "output_type": "display_data"
    }
   ],
   "source": [
    "import matplotlib.pyplot as plt\n",
    "\n",
    "plt.plot(history.history['accuracy'], label='Train Accuracy')\n",
    "plt.plot(history.history['val_accuracy'], label='Validation Accuracy')\n",
    "plt.xlabel('Epochs')\n",
    "plt.ylabel('Accuracy')\n",
    "plt.legend()\n",
    "plt.title('Model Accuracy')\n",
    "plt.show()\n"
   ]
  },
  {
   "cell_type": "code",
   "execution_count": 14,
   "metadata": {},
   "outputs": [
    {
     "name": "stdout",
     "output_type": "stream",
     "text": [
      "\u001b[1m1/1\u001b[0m \u001b[32m━━━━━━━━━━━━━━━━━━━━\u001b[0m\u001b[37m\u001b[0m \u001b[1m0s\u001b[0m 47ms/step\n",
      "Confidence Score: 0.9916250109672546\n",
      "Predicted Sentiment: Positive 😊\n"
     ]
    }
   ],
   "source": [
    "sample_review = \"This movie was absolutely amazing, I loved every bit of it!\"\n",
    "\n",
    "# Step 1: Preprocess\n",
    "sample_seq = tokenizer.texts_to_sequences([sample_review])\n",
    "sample_pad = pad_sequences(sample_seq, maxlen=max_length, padding='post', truncating='post')\n",
    "\n",
    "# Step 2: Predict\n",
    "prediction = model.predict(sample_pad)\n",
    "\n",
    "# Step 3: Interpret\n",
    "print(f\"Confidence Score: {prediction[0][0]}\")\n",
    "if prediction[0][0] > 0.5:\n",
    "    print(\"Predicted Sentiment: Positive 😊\")\n",
    "else:\n",
    "    print(\"Predicted Sentiment: Negative 😞\")\n"
   ]
  },
  {
   "cell_type": "code",
   "execution_count": null,
   "metadata": {},
   "outputs": [],
   "source": []
  }
 ],
 "metadata": {
  "colab": {
   "provenance": []
  },
  "kernelspec": {
   "display_name": "Python 3 (ipykernel)",
   "language": "python",
   "name": "python3"
  },
  "language_info": {
   "codemirror_mode": {
    "name": "ipython",
    "version": 3
   },
   "file_extension": ".py",
   "mimetype": "text/x-python",
   "name": "python",
   "nbconvert_exporter": "python",
   "pygments_lexer": "ipython3",
   "version": "3.10.11"
  }
 },
 "nbformat": 4,
 "nbformat_minor": 4
}
